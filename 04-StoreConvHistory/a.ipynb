{
 "cells": [
  {
   "cell_type": "code",
   "execution_count": 8,
   "id": "631126f4",
   "metadata": {},
   "outputs": [],
   "source": [
    "import os\n",
    "from dotenv import load_dotenv\n",
    "from langchain_groq import ChatGroq\n",
    "from operator import itemgetter\n",
    "from langchain_core.runnables import RunnablePassthrough\n",
    "from langchain_community.chat_message_histories import ChatMessageHistory\n",
    "from langchain_core.chat_history import BaseChatMessageHistory\n",
    "from langchain_core.runnables.history import RunnableWithMessageHistory\n",
    "from langchain_core.messages import trim_messages, AIMessage, HumanMessage, SystemMessage\n",
    "from langchain_core.prompts import ChatPromptTemplate, MessagesPlaceholder"
   ]
  },
  {
   "cell_type": "code",
   "execution_count": 9,
   "id": "3e529a2d",
   "metadata": {},
   "outputs": [
    {
     "data": {
      "text/plain": [
       "AIMessage(content=\"You are Aryamann Tomar, and you are a Senior Data Scientist in the Finance Department at GEP Worldwide.  \\n\\nIs there anything else you'd like me to remember about you? 😊  I'm here to help!\\n\", additional_kwargs={}, response_metadata={'token_usage': {'completion_tokens': 51, 'prompt_tokens': 110, 'total_tokens': 161, 'completion_time': 0.092727273, 'prompt_time': 0.002808048, 'queue_time': 0.254072521, 'total_time': 0.095535321}, 'model_name': 'Gemma2-9b-It', 'system_fingerprint': 'fp_10c08bf97d', 'service_tier': 'on_demand', 'finish_reason': 'stop', 'logprobs': None}, id='run--1fbbab5f-b046-4875-9984-2cf2d055228e-0', usage_metadata={'input_tokens': 110, 'output_tokens': 51, 'total_tokens': 161})"
      ]
     },
     "execution_count": 9,
     "metadata": {},
     "output_type": "execute_result"
    }
   ],
   "source": [
    "load_dotenv()\n",
    "groq_api_key=os.getenv(\"GROQ_API_KEY\")\n",
    "model=ChatGroq(model=\"Gemma2-9b-It\",groq_api_key=groq_api_key)\n",
    "model.invoke(\n",
    "    [\n",
    "        HumanMessage(content=\"Hi, My name is Aryamann Tomar and I am a Sr Data Scientist at GEP Worldwide in Finance Department.\"),\n",
    "        AIMessage(content=\"Hello Aryamann! It's nice to meet you. \\n\\nAs a Sr Data Scientist, what kind of projects are you working on these days? \\n\\nI'm always eager to learn more about the exciting work being done in the field of AI.\\n\"),\n",
    "        HumanMessage(content=\"Hey What's my name and what do I do?\")\n",
    "    ])\n"
   ]
  },
  {
   "cell_type": "code",
   "execution_count": 10,
   "id": "35525fa3",
   "metadata": {},
   "outputs": [],
   "source": [
    "store={}\n",
    "def get_session_history(session_id:str)->BaseChatMessageHistory:\n",
    "    if session_id not in store:\n",
    "        store[session_id]=ChatMessageHistory()\n",
    "    return store[session_id]"
   ]
  },
  {
   "cell_type": "markdown",
   "id": "48b212ed",
   "metadata": {},
   "source": [
    "##### Basic"
   ]
  },
  {
   "cell_type": "code",
   "execution_count": 11,
   "id": "9ea8aa95",
   "metadata": {},
   "outputs": [],
   "source": [
    "# with_message_history=RunnableWithMessageHistory(model,get_session_history)\n",
    "# config={\"configurable\":{\"session_id\":\"chat1\"}}\n",
    "# response=with_message_history.invoke(\n",
    "#     [HumanMessage(content=\"Hi, My name is Aryamann Tomar and I am a Sr Data Scientist at GEP Worldwide in Finance Department.\")],\n",
    "#     config=config\n",
    "# )\n",
    "# with_message_history.invoke(\n",
    "#     [HumanMessage(content=\"What's my name?\")],\n",
    "#     config=config,\n",
    "# )\n",
    "\n",
    "# '''\n",
    "# #! No Memory of previous conversation\n",
    "# '''\n",
    "# config1={\"configurable\":{\"session_id\":\"chat2\"}}\n",
    "# response=with_message_history.invoke(\n",
    "#     [HumanMessage(content=\"Whats my name\")],\n",
    "#     config=config1\n",
    "# )\n",
    "# response.content"
   ]
  },
  {
   "cell_type": "markdown",
   "id": "72d6e94d",
   "metadata": {},
   "source": [
    "##### PromptTemplate"
   ]
  },
  {
   "cell_type": "code",
   "execution_count": 12,
   "id": "ca4d87db",
   "metadata": {},
   "outputs": [],
   "source": [
    "# prompt=ChatPromptTemplate.from_messages(\n",
    "#     [\n",
    "#         (\"system\",\"You are a helpful assistant. Answer all the question to the nest of your ability\"),\n",
    "#         MessagesPlaceholder(variable_name=\"messages\")\n",
    "#     ]\n",
    "# )\n",
    "# chain=prompt|model\n",
    "# with_message_history=RunnableWithMessageHistory(chain,get_session_history)\n",
    "# config = {\"configurable\": {\"session_id\": \"chat3\"}}\n",
    "# response=with_message_history.invoke(\n",
    "#     [HumanMessage(content=\"Hi! My name is Aryamann\")],\n",
    "#     config=config\n",
    "# )\n",
    "\n",
    "# response"
   ]
  },
  {
   "cell_type": "markdown",
   "id": "e520b334",
   "metadata": {},
   "source": [
    "##### MultipleKeys"
   ]
  },
  {
   "cell_type": "code",
   "execution_count": 13,
   "id": "7d2c3108",
   "metadata": {},
   "outputs": [
    {
     "data": {
      "text/plain": [
       "'आपका नाम Aryamann है।  😄  \\n'"
      ]
     },
     "execution_count": 13,
     "metadata": {},
     "output_type": "execute_result"
    }
   ],
   "source": [
    "prompt = ChatPromptTemplate.from_messages([(\n",
    "        \"system\", \"You are a helpful assistant. Answer all questions to the best of your ability in {language}.\",),\n",
    "        MessagesPlaceholder(variable_name=\"messages\")])\n",
    "chain = prompt|model\n",
    "# response=chain.invoke({\"messages\":[HumanMessage(content=\"Hi My name is Aryamann\")],\"language\":\"Hindi\"}) \n",
    "\n",
    "with_message_history=RunnableWithMessageHistory(\n",
    "    chain,\n",
    "    get_session_history,\n",
    "    input_messages_key=\"messages\"\n",
    ")\n",
    "config = {\"configurable\": {\"session_id\": \"chat4\"}}\n",
    "repsonse=with_message_history.invoke(\n",
    "    {'messages': [HumanMessage(content=\"Hi, I am Aryamann\")],\"language\":\"Hindi\"},\n",
    "    config=config)\n",
    "response = with_message_history.invoke(\n",
    "    {\"messages\": [HumanMessage(content=\"whats my name?\")], \"language\": \"Hindi\"},\n",
    "    config=config,\n",
    ")\n",
    "response.content"
   ]
  },
  {
   "cell_type": "markdown",
   "id": "fa4287f0",
   "metadata": {},
   "source": [
    "##### TrimMessages"
   ]
  },
  {
   "cell_type": "code",
   "execution_count": null,
   "id": "7ae27073",
   "metadata": {},
   "outputs": [],
   "source": [
    "trimmer=trim_messages(\n",
    "    max_tokens=45, strategy=\"last\", token_counter=model, include_system=True,\n",
    "    allow_partial=False, start_on=\"human\"\n",
    ")"
   ]
  },
  {
   "cell_type": "markdown",
   "id": "931c9184",
   "metadata": {},
   "source": [
    "##### test - trimming"
   ]
  },
  {
   "cell_type": "code",
   "execution_count": 28,
   "id": "ddfd4015",
   "metadata": {},
   "outputs": [
    {
     "data": {
      "text/plain": [
       "[SystemMessage(content=\"you're a good assistant\", additional_kwargs={}, response_metadata={}),\n",
       " HumanMessage(content='I like vanilla ice cream', additional_kwargs={}, response_metadata={}),\n",
       " AIMessage(content='nice', additional_kwargs={}, response_metadata={}),\n",
       " HumanMessage(content='whats 2 + 2', additional_kwargs={}, response_metadata={}),\n",
       " AIMessage(content='4', additional_kwargs={}, response_metadata={}),\n",
       " HumanMessage(content='thanks', additional_kwargs={}, response_metadata={}),\n",
       " AIMessage(content='no problem!', additional_kwargs={}, response_metadata={}),\n",
       " HumanMessage(content='having fun?', additional_kwargs={}, response_metadata={}),\n",
       " AIMessage(content='yes!', additional_kwargs={}, response_metadata={})]"
      ]
     },
     "execution_count": 28,
     "metadata": {},
     "output_type": "execute_result"
    }
   ],
   "source": [
    "messages = [\n",
    "    SystemMessage(content=\"you're a good assistant\"),\n",
    "    HumanMessage(content=\"hi! I'm bob the builder\"),\n",
    "    AIMessage(content=\"hi!\"),\n",
    "    HumanMessage(content=\"I like vanilla ice cream\"),\n",
    "    AIMessage(content=\"nice\"),\n",
    "    HumanMessage(content=\"whats 2 + 2\"),\n",
    "    AIMessage(content=\"4\"),\n",
    "    HumanMessage(content=\"thanks\"),\n",
    "    AIMessage(content=\"no problem!\"),\n",
    "    HumanMessage(content=\"having fun?\"),\n",
    "    AIMessage(content=\"yes!\"),\n",
    "]\n",
    "trimmer.invoke(messages)"
   ]
  },
  {
   "cell_type": "code",
   "execution_count": null,
   "id": "ea79ab9e",
   "metadata": {},
   "outputs": [
    {
     "data": {
      "text/plain": [
       "\"As a helpful assistant, I don't have access to your personal preferences, like your favorite ice cream flavor.  \\n\\nWhat's your favorite ice cream flavor? 😊🍦\\n\""
      ]
     },
     "execution_count": 29,
     "metadata": {},
     "output_type": "execute_result"
    }
   ],
   "source": [
    "chain=(\n",
    "    RunnablePassthrough.assign(messages=itemgetter(\"messages\")|trimmer)|prompt|model\n",
    ")\n",
    "response=chain.invoke({\n",
    "    \"messages\":messages + [HumanMessage(content=\"What ice cream do i like\")],\n",
    "    # \"messages\": messages + [HumanMessage(content=\"what math problem did i ask\")],\n",
    "    \"language\":\"English\"\n",
    "})\n",
    "response.content"
   ]
  },
  {
   "cell_type": "markdown",
   "id": "1763cd77",
   "metadata": {},
   "source": [
    "##### Now with_message_history"
   ]
  },
  {
   "cell_type": "code",
   "execution_count": 31,
   "id": "5aa44657",
   "metadata": {},
   "outputs": [
    {
     "data": {
      "text/plain": [
       "\"As an AI, I don't have access to past conversations or personal information about you, so I don't know your name. If you'd like to tell me, I'd be happy to know! 😊  \\n\""
      ]
     },
     "execution_count": 31,
     "metadata": {},
     "output_type": "execute_result"
    }
   ],
   "source": [
    "with_message_history = RunnableWithMessageHistory(\n",
    "    chain,\n",
    "    get_session_history,\n",
    "    input_messages_key=\"messages\",\n",
    ")\n",
    "config={\"configurable\":{\"session_id\":\"chat5\"}}\n",
    "response = with_message_history.invoke({\n",
    "        \"messages\": messages + [HumanMessage(content=\"whats my name?\")],\n",
    "        \"language\": \"English\",\n",
    "    },\n",
    "    config=config,\n",
    ")\n",
    "response.content"
   ]
  }
 ],
 "metadata": {
  "kernelspec": {
   "display_name": "myenv",
   "language": "python",
   "name": "python3"
  },
  "language_info": {
   "codemirror_mode": {
    "name": "ipython",
    "version": 3
   },
   "file_extension": ".py",
   "mimetype": "text/x-python",
   "name": "python",
   "nbconvert_exporter": "python",
   "pygments_lexer": "ipython3",
   "version": "3.13.5"
  }
 },
 "nbformat": 4,
 "nbformat_minor": 5
}
