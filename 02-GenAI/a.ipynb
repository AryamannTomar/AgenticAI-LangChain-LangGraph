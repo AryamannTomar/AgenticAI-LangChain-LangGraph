{
 "cells": [
  {
   "cell_type": "code",
   "execution_count": 71,
   "id": "437a3e62",
   "metadata": {},
   "outputs": [],
   "source": [
    "import os\n",
    "import json\n",
    "from dotenv import load_dotenv\n",
    "# from openai import AzureOpenAI  #? client.chat.completions.create\n",
    "from langchain_openai import AzureChatOpenAI\n",
    "from langchain_core.output_parsers import StrOutputParser\n",
    "from langchain_core.prompts import ChatPromptTemplate"
   ]
  },
  {
   "cell_type": "code",
   "execution_count": 66,
   "id": "a0eb828d",
   "metadata": {},
   "outputs": [],
   "source": [
    "load_dotenv()\n",
    "os.environ['ENDPOINT_URL'] = os.getenv(\"ENDPOINT_URL\")\n",
    "os.environ['AZURE_OPENAI_API_KEY'] = os.getenv(\"AZURE_OPENAI_API_KEY\")\n",
    "os.environ['AZURE_OPENAI_API_VERSION'] = os.getenv(\"AZURE_OPENAI_API_VERSION\")"
   ]
  },
  {
   "cell_type": "code",
   "execution_count": 67,
   "id": "11b4a4e2",
   "metadata": {},
   "outputs": [],
   "source": [
    "# llm = AzureOpenAI(\n",
    "#     api_key=os.environ[\"AZURE_OPENAI_API_KEY\"],\n",
    "#     api_version=os.environ[\"AZURE_OPENAI_API_VERSION\"],\n",
    "#     azure_endpoint=os.environ[\"ENDPOINT_URL\"],\n",
    "# )\n",
    "# response = llm.chat.completions.create(\n",
    "#     model='gpt-4o',\n",
    "#     messages=[\n",
    "#         {\"role\": \"system\", \"content\": \"You are a helpful assistant.\"},\n",
    "#         {\"role\": \"user\", \"content\": \"Tell me a joke.\"},\n",
    "#     ],\n",
    "# )\n",
    "# print(json.dumps(response.to_dict(), indent=4))"
   ]
  },
  {
   "cell_type": "code",
   "execution_count": 68,
   "id": "cbd830dc",
   "metadata": {},
   "outputs": [
    {
     "data": {
      "text/plain": [
       "AIMessage(content='Generative AI refers to a category of artificial intelligence algorithms that are designed to generate new content. This can include creating images, music, text, and even videos based on patterns and data they have been trained on. These models use techniques from machine learning and deep learning, including neural networks, to synthesize data that resembles the examples they learned during training.\\n\\nKey types of generative AI include:\\n\\n1. **Generative Adversarial Networks (GANs):** GANs consist of two neural networks, a generator and a discriminator, that compete against each other. The generator creates data samples, and the discriminator evaluates them. The goal is for the generator to produce indistinguishable data from real examples.\\n\\n2. **Variational Autoencoders (VAEs):** VAEs work by encoding input data into a compressed representation and then decoding it back. They generate new content by sampling from the latent space and decoding these samples.\\n\\n3. **Transformers:** These include models like GPT (Generative Pre-trained Transformer), which can generate coherent text based on the context and prompts provided to them. They utilize attention mechanisms to predict and generate sequences of data.\\n\\nApplications of generative AI are vast and include:\\n\\n- **Art and Design:** Creating original artwork, designs, and even fashion items.\\n- **Entertainment:** Generating music, animations, and scripts.\\n- **Text:** Writing articles, stories, poems, or even code.\\n- **Healthcare:** Synthesizing medical imaging data for training purposes.\\n\\nGenerative AI represents a significant shift in how we approach creativity and production, enabling automatic generation of personalized and novel content across various domains.', additional_kwargs={'refusal': None}, response_metadata={'token_usage': {'completion_tokens': 328, 'prompt_tokens': 13, 'total_tokens': 341, 'completion_tokens_details': {'accepted_prediction_tokens': 0, 'audio_tokens': 0, 'reasoning_tokens': 0, 'rejected_prediction_tokens': 0}, 'prompt_tokens_details': {'audio_tokens': 0, 'cached_tokens': 0}}, 'model_name': 'gpt-4o-2024-05-13', 'system_fingerprint': 'fp_ee1d74bde0', 'id': 'chatcmpl-C8HJV7Ig81g1hoT5WpALPltQh87Wp', 'service_tier': None, 'prompt_filter_results': [{'prompt_index': 0, 'content_filter_results': {'hate': {'filtered': False, 'severity': 'safe'}, 'self_harm': {'filtered': False, 'severity': 'safe'}, 'sexual': {'filtered': False, 'severity': 'safe'}, 'violence': {'filtered': False, 'severity': 'safe'}}}], 'finish_reason': 'stop', 'logprobs': None, 'content_filter_results': {'hate': {'filtered': False, 'severity': 'safe'}, 'self_harm': {'filtered': False, 'severity': 'safe'}, 'sexual': {'filtered': False, 'severity': 'safe'}, 'violence': {'filtered': False, 'severity': 'safe'}}}, id='run--0f257daf-9457-4026-a884-28296a908adb-0', usage_metadata={'input_tokens': 13, 'output_tokens': 328, 'total_tokens': 341, 'input_token_details': {'audio': 0, 'cache_read': 0}, 'output_token_details': {'audio': 0, 'reasoning': 0}})"
      ]
     },
     "execution_count": 68,
     "metadata": {},
     "output_type": "execute_result"
    }
   ],
   "source": [
    "llm = AzureChatOpenAI(\n",
    "    model=\"gpt-4o\",\n",
    "    api_key=os.environ[\"AZURE_OPENAI_API_KEY\"],\n",
    "    api_version=os.environ[\"AZURE_OPENAI_API_VERSION\"],\n",
    "    azure_endpoint=os.environ[\"ENDPOINT_URL\"],\n",
    ")\n",
    "\n",
    "llm.invoke(\"What is generative AI?\")"
   ]
  },
  {
   "cell_type": "code",
   "execution_count": 75,
   "id": "11c3a5ae",
   "metadata": {},
   "outputs": [
    {
     "name": "stdout",
     "output_type": "stream",
     "text": [
      "Langsmith is a sophisticated tool designed for tracing, observability, and testing, particularly tailored for those working with language models and AI agents. Developed by LangChain, Langsmith offers an integrated platform to enhance the debugging experience and optimize overall performance.\n",
      "\n",
      "- **Tracing:** Langsmith allows developers and users to trace the operations and workflows of their language models, providing detailed insights into their behavior and execution paths.\n",
      "\n",
      "- **Observability:** With robust observability features, Langsmith helps monitor various aspects of language models and agents, ensuring they are functioning as intended and enabling prompt identification and resolution of any issues.\n",
      "\n",
      "- **Testing:** Langsmith provides comprehensive testing capabilities, allowing for rigorous validation of language models and AI agents to ensure reliability and accuracy.\n",
      "\n",
      "Overall, Langsmith is an invaluable tool for anyone looking to improve the performance and reliability of their language model implementations. By leveraging its tracing, observability, and testing functionalities, developers can achieve a deeper understanding and greater control over their AI systems.\n"
     ]
    }
   ],
   "source": [
    "prompt=ChatPromptTemplate.from_messages([\n",
    "    (\"system\",\"You are an expert AI Engineer. Provide me answers based on the questions\"),\n",
    "    (\"user\",\"{input}\")\n",
    "    ])\n",
    "prompt = ChatPromptTemplate.from_template(\"Question: {input}\")\n",
    "output_parser = StrOutputParser()\n",
    "chain=prompt|llm|output_parser\n",
    "response=chain.invoke({\"input\":\"Can you tell me about Langsmith?\"})\n",
    "print(response)"
   ]
  },
  {
   "cell_type": "code",
   "execution_count": null,
   "id": "11e14ed3",
   "metadata": {},
   "outputs": [],
   "source": []
  },
  {
   "cell_type": "code",
   "execution_count": null,
   "id": "4831e729",
   "metadata": {},
   "outputs": [],
   "source": []
  }
 ],
 "metadata": {
  "kernelspec": {
   "display_name": "myenv",
   "language": "python",
   "name": "python3"
  },
  "language_info": {
   "codemirror_mode": {
    "name": "ipython",
    "version": 3
   },
   "file_extension": ".py",
   "mimetype": "text/x-python",
   "name": "python",
   "nbconvert_exporter": "python",
   "pygments_lexer": "ipython3",
   "version": "3.12.11"
  }
 },
 "nbformat": 4,
 "nbformat_minor": 5
}
